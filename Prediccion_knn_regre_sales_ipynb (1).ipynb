{
  "cells": [
    {
      "cell_type": "markdown",
      "metadata": {
        "id": "vLObsq_RJGFd"
      },
      "source": [
        "##Importación de Datos"
      ]
    },
    {
      "cell_type": "code",
      "execution_count": 31,
      "metadata": {
        "colab": {
          "base_uri": "https://localhost:8080/"
        },
        "id": "2lfZFO1qwGHH",
        "outputId": "a54f1f06-43fd-43e7-f2d1-0770b9053c88"
      },
      "outputs": [
        {
          "output_type": "stream",
          "name": "stdout",
          "text": [
            "Drive already mounted at /content/drive; to attempt to forcibly remount, call drive.mount(\"/content/drive\", force_remount=True).\n"
          ]
        }
      ],
      "source": [
        "from google.colab import drive\n",
        "drive.mount('/content/drive')"
      ]
    },
    {
      "cell_type": "code",
      "execution_count": 32,
      "metadata": {
        "id": "7RM2TSyLwaE9"
      },
      "outputs": [],
      "source": [
        "import pandas as pd\n",
        "import numpy as np \n",
        "import matplotlib.pyplot as plt\n",
        "#para escalar datos\n",
        "from sklearn.preprocessing import StandardScaler\n",
        "from sklearn.datasets import load_iris\n",
        "from sklearn.neighbors import KNeighborsClassifier\n",
        "from sklearn.neighbors import KNeighborsRegressor"
      ]
    },
    {
      "cell_type": "code",
      "execution_count": 33,
      "metadata": {
        "id": "U_e6N4njwaq6",
        "colab": {
          "base_uri": "https://localhost:8080/",
          "height": 357
        },
        "outputId": "4cb69eba-b50c-4684-ae5b-a8ec1f3e8290"
      },
      "outputs": [
        {
          "output_type": "execute_result",
          "data": {
            "text/html": [
              "\n",
              "  <div id=\"df-e7e3eef4-4377-48ce-85ad-4c1b65169ecc\">\n",
              "    <div class=\"colab-df-container\">\n",
              "      <div>\n",
              "<style scoped>\n",
              "    .dataframe tbody tr th:only-of-type {\n",
              "        vertical-align: middle;\n",
              "    }\n",
              "\n",
              "    .dataframe tbody tr th {\n",
              "        vertical-align: top;\n",
              "    }\n",
              "\n",
              "    .dataframe thead th {\n",
              "        text-align: right;\n",
              "    }\n",
              "</style>\n",
              "<table border=\"1\" class=\"dataframe\">\n",
              "  <thead>\n",
              "    <tr style=\"text-align: right;\">\n",
              "      <th></th>\n",
              "      <th>Item_Identifier</th>\n",
              "      <th>Item_Weight</th>\n",
              "      <th>Item_Fat_Content</th>\n",
              "      <th>Item_Visibility</th>\n",
              "      <th>Item_Type</th>\n",
              "      <th>Item_MRP</th>\n",
              "      <th>Outlet_Identifier</th>\n",
              "      <th>Outlet_Establishment_Year</th>\n",
              "      <th>Outlet_Size</th>\n",
              "      <th>Outlet_Location_Type</th>\n",
              "      <th>Outlet_Type</th>\n",
              "      <th>Item_Outlet_Sales</th>\n",
              "    </tr>\n",
              "  </thead>\n",
              "  <tbody>\n",
              "    <tr>\n",
              "      <th>0</th>\n",
              "      <td>FDA15</td>\n",
              "      <td>9.30</td>\n",
              "      <td>Low Fat</td>\n",
              "      <td>0.016047</td>\n",
              "      <td>Dairy</td>\n",
              "      <td>249.8092</td>\n",
              "      <td>OUT049</td>\n",
              "      <td>1999</td>\n",
              "      <td>Medium</td>\n",
              "      <td>Tier 1</td>\n",
              "      <td>Supermarket Type1</td>\n",
              "      <td>3735.1380</td>\n",
              "    </tr>\n",
              "    <tr>\n",
              "      <th>1</th>\n",
              "      <td>DRC01</td>\n",
              "      <td>5.92</td>\n",
              "      <td>Regular</td>\n",
              "      <td>0.019278</td>\n",
              "      <td>Soft Drinks</td>\n",
              "      <td>48.2692</td>\n",
              "      <td>OUT018</td>\n",
              "      <td>2009</td>\n",
              "      <td>Medium</td>\n",
              "      <td>Tier 3</td>\n",
              "      <td>Supermarket Type2</td>\n",
              "      <td>443.4228</td>\n",
              "    </tr>\n",
              "    <tr>\n",
              "      <th>2</th>\n",
              "      <td>FDN15</td>\n",
              "      <td>17.50</td>\n",
              "      <td>Low Fat</td>\n",
              "      <td>0.016760</td>\n",
              "      <td>Meat</td>\n",
              "      <td>141.6180</td>\n",
              "      <td>OUT049</td>\n",
              "      <td>1999</td>\n",
              "      <td>Medium</td>\n",
              "      <td>Tier 1</td>\n",
              "      <td>Supermarket Type1</td>\n",
              "      <td>2097.2700</td>\n",
              "    </tr>\n",
              "    <tr>\n",
              "      <th>3</th>\n",
              "      <td>FDX07</td>\n",
              "      <td>19.20</td>\n",
              "      <td>Regular</td>\n",
              "      <td>0.000000</td>\n",
              "      <td>Fruits and Vegetables</td>\n",
              "      <td>182.0950</td>\n",
              "      <td>OUT010</td>\n",
              "      <td>1998</td>\n",
              "      <td>NaN</td>\n",
              "      <td>Tier 3</td>\n",
              "      <td>Grocery Store</td>\n",
              "      <td>732.3800</td>\n",
              "    </tr>\n",
              "    <tr>\n",
              "      <th>4</th>\n",
              "      <td>NCD19</td>\n",
              "      <td>8.93</td>\n",
              "      <td>Low Fat</td>\n",
              "      <td>0.000000</td>\n",
              "      <td>Household</td>\n",
              "      <td>53.8614</td>\n",
              "      <td>OUT013</td>\n",
              "      <td>1987</td>\n",
              "      <td>High</td>\n",
              "      <td>Tier 3</td>\n",
              "      <td>Supermarket Type1</td>\n",
              "      <td>994.7052</td>\n",
              "    </tr>\n",
              "  </tbody>\n",
              "</table>\n",
              "</div>\n",
              "      <button class=\"colab-df-convert\" onclick=\"convertToInteractive('df-e7e3eef4-4377-48ce-85ad-4c1b65169ecc')\"\n",
              "              title=\"Convert this dataframe to an interactive table.\"\n",
              "              style=\"display:none;\">\n",
              "        \n",
              "  <svg xmlns=\"http://www.w3.org/2000/svg\" height=\"24px\"viewBox=\"0 0 24 24\"\n",
              "       width=\"24px\">\n",
              "    <path d=\"M0 0h24v24H0V0z\" fill=\"none\"/>\n",
              "    <path d=\"M18.56 5.44l.94 2.06.94-2.06 2.06-.94-2.06-.94-.94-2.06-.94 2.06-2.06.94zm-11 1L8.5 8.5l.94-2.06 2.06-.94-2.06-.94L8.5 2.5l-.94 2.06-2.06.94zm10 10l.94 2.06.94-2.06 2.06-.94-2.06-.94-.94-2.06-.94 2.06-2.06.94z\"/><path d=\"M17.41 7.96l-1.37-1.37c-.4-.4-.92-.59-1.43-.59-.52 0-1.04.2-1.43.59L10.3 9.45l-7.72 7.72c-.78.78-.78 2.05 0 2.83L4 21.41c.39.39.9.59 1.41.59.51 0 1.02-.2 1.41-.59l7.78-7.78 2.81-2.81c.8-.78.8-2.07 0-2.86zM5.41 20L4 18.59l7.72-7.72 1.47 1.35L5.41 20z\"/>\n",
              "  </svg>\n",
              "      </button>\n",
              "      \n",
              "  <style>\n",
              "    .colab-df-container {\n",
              "      display:flex;\n",
              "      flex-wrap:wrap;\n",
              "      gap: 12px;\n",
              "    }\n",
              "\n",
              "    .colab-df-convert {\n",
              "      background-color: #E8F0FE;\n",
              "      border: none;\n",
              "      border-radius: 50%;\n",
              "      cursor: pointer;\n",
              "      display: none;\n",
              "      fill: #1967D2;\n",
              "      height: 32px;\n",
              "      padding: 0 0 0 0;\n",
              "      width: 32px;\n",
              "    }\n",
              "\n",
              "    .colab-df-convert:hover {\n",
              "      background-color: #E2EBFA;\n",
              "      box-shadow: 0px 1px 2px rgba(60, 64, 67, 0.3), 0px 1px 3px 1px rgba(60, 64, 67, 0.15);\n",
              "      fill: #174EA6;\n",
              "    }\n",
              "\n",
              "    [theme=dark] .colab-df-convert {\n",
              "      background-color: #3B4455;\n",
              "      fill: #D2E3FC;\n",
              "    }\n",
              "\n",
              "    [theme=dark] .colab-df-convert:hover {\n",
              "      background-color: #434B5C;\n",
              "      box-shadow: 0px 1px 3px 1px rgba(0, 0, 0, 0.15);\n",
              "      filter: drop-shadow(0px 1px 2px rgba(0, 0, 0, 0.3));\n",
              "      fill: #FFFFFF;\n",
              "    }\n",
              "  </style>\n",
              "\n",
              "      <script>\n",
              "        const buttonEl =\n",
              "          document.querySelector('#df-e7e3eef4-4377-48ce-85ad-4c1b65169ecc button.colab-df-convert');\n",
              "        buttonEl.style.display =\n",
              "          google.colab.kernel.accessAllowed ? 'block' : 'none';\n",
              "\n",
              "        async function convertToInteractive(key) {\n",
              "          const element = document.querySelector('#df-e7e3eef4-4377-48ce-85ad-4c1b65169ecc');\n",
              "          const dataTable =\n",
              "            await google.colab.kernel.invokeFunction('convertToInteractive',\n",
              "                                                     [key], {});\n",
              "          if (!dataTable) return;\n",
              "\n",
              "          const docLinkHtml = 'Like what you see? Visit the ' +\n",
              "            '<a target=\"_blank\" href=https://colab.research.google.com/notebooks/data_table.ipynb>data table notebook</a>'\n",
              "            + ' to learn more about interactive tables.';\n",
              "          element.innerHTML = '';\n",
              "          dataTable['output_type'] = 'display_data';\n",
              "          await google.colab.output.renderOutput(dataTable, element);\n",
              "          const docLink = document.createElement('div');\n",
              "          docLink.innerHTML = docLinkHtml;\n",
              "          element.appendChild(docLink);\n",
              "        }\n",
              "      </script>\n",
              "    </div>\n",
              "  </div>\n",
              "  "
            ],
            "text/plain": [
              "  Item_Identifier  Item_Weight  ...        Outlet_Type  Item_Outlet_Sales\n",
              "0           FDA15         9.30  ...  Supermarket Type1          3735.1380\n",
              "1           DRC01         5.92  ...  Supermarket Type2           443.4228\n",
              "2           FDN15        17.50  ...  Supermarket Type1          2097.2700\n",
              "3           FDX07        19.20  ...      Grocery Store           732.3800\n",
              "4           NCD19         8.93  ...  Supermarket Type1           994.7052\n",
              "\n",
              "[5 rows x 12 columns]"
            ]
          },
          "metadata": {},
          "execution_count": 33
        }
      ],
      "source": [
        "filename=('/content/drive/MyDrive/Coding Dojo/Track1/Week 2/proyecto2/sales_predictions.csv')\n",
        "df=pd.read_csv(filename)\n",
        "df.head()"
      ]
    },
    {
      "cell_type": "markdown",
      "source": [
        "##Diccionrio de base de datos\n",
        "![image.png](data:image/png;base64,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)"
      ],
      "metadata": {
        "id": "eP5fXzLscmcR"
      }
    },
    {
      "cell_type": "code",
      "source": [
        "df.info()"
      ],
      "metadata": {
        "colab": {
          "base_uri": "https://localhost:8080/"
        },
        "id": "ESgvlzB1VCaO",
        "outputId": "f5638817-681c-4b59-b76e-8ba3eafcadfb"
      },
      "execution_count": 34,
      "outputs": [
        {
          "output_type": "stream",
          "name": "stdout",
          "text": [
            "<class 'pandas.core.frame.DataFrame'>\n",
            "RangeIndex: 8523 entries, 0 to 8522\n",
            "Data columns (total 12 columns):\n",
            " #   Column                     Non-Null Count  Dtype  \n",
            "---  ------                     --------------  -----  \n",
            " 0   Item_Identifier            8523 non-null   object \n",
            " 1   Item_Weight                7060 non-null   float64\n",
            " 2   Item_Fat_Content           8523 non-null   object \n",
            " 3   Item_Visibility            8523 non-null   float64\n",
            " 4   Item_Type                  8523 non-null   object \n",
            " 5   Item_MRP                   8523 non-null   float64\n",
            " 6   Outlet_Identifier          8523 non-null   object \n",
            " 7   Outlet_Establishment_Year  8523 non-null   int64  \n",
            " 8   Outlet_Size                6113 non-null   object \n",
            " 9   Outlet_Location_Type       8523 non-null   object \n",
            " 10  Outlet_Type                8523 non-null   object \n",
            " 11  Item_Outlet_Sales          8523 non-null   float64\n",
            "dtypes: float64(4), int64(1), object(7)\n",
            "memory usage: 799.2+ KB\n"
          ]
        }
      ]
    },
    {
      "cell_type": "markdown",
      "metadata": {
        "id": "P_GtqTgYJK4U"
      },
      "source": [
        "##Exploración de Informacion "
      ]
    },
    {
      "cell_type": "code",
      "execution_count": 35,
      "metadata": {
        "colab": {
          "base_uri": "https://localhost:8080/"
        },
        "id": "d4qN_LcvwnNc",
        "outputId": "0eaba525-143e-4d79-e63e-7a3cec77b43e"
      },
      "outputs": [
        {
          "output_type": "stream",
          "name": "stdout",
          "text": [
            "<class 'pandas.core.frame.DataFrame'>\n",
            "RangeIndex: 8523 entries, 0 to 8522\n",
            "Data columns (total 12 columns):\n",
            " #   Column                     Non-Null Count  Dtype  \n",
            "---  ------                     --------------  -----  \n",
            " 0   Item_Identifier            8523 non-null   object \n",
            " 1   Item_Weight                8523 non-null   float64\n",
            " 2   Item_Fat_Content           8523 non-null   object \n",
            " 3   Item_Visibility            8523 non-null   float64\n",
            " 4   Item_Type                  8523 non-null   object \n",
            " 5   Item_MRP                   8523 non-null   float64\n",
            " 6   Outlet_Identifier          8523 non-null   object \n",
            " 7   Outlet_Establishment_Year  8523 non-null   int64  \n",
            " 8   Outlet_Size                8523 non-null   object \n",
            " 9   Outlet_Location_Type       8523 non-null   object \n",
            " 10  Outlet_Type                8523 non-null   object \n",
            " 11  Item_Outlet_Sales          8523 non-null   float64\n",
            "dtypes: float64(4), int64(1), object(7)\n",
            "memory usage: 799.2+ KB\n"
          ]
        }
      ],
      "source": [
        "df['Item_Weight']=df.loc[:,'Item_Weight'].interpolate(method='linear')\n",
        "df['Outlet_Size']=df.loc[:,'Outlet_Size'].fillna(method='ffill')\n",
        "df.info()\n"
      ]
    },
    {
      "cell_type": "code",
      "source": [
        "df.columns"
      ],
      "metadata": {
        "colab": {
          "base_uri": "https://localhost:8080/"
        },
        "id": "9bjeyWOseePA",
        "outputId": "2647a552-5dcd-41f3-d9fc-a13a3212271f"
      },
      "execution_count": 36,
      "outputs": [
        {
          "output_type": "execute_result",
          "data": {
            "text/plain": [
              "Index(['Item_Identifier', 'Item_Weight', 'Item_Fat_Content', 'Item_Visibility',\n",
              "       'Item_Type', 'Item_MRP', 'Outlet_Identifier',\n",
              "       'Outlet_Establishment_Year', 'Outlet_Size', 'Outlet_Location_Type',\n",
              "       'Outlet_Type', 'Item_Outlet_Sales'],\n",
              "      dtype='object')"
            ]
          },
          "metadata": {},
          "execution_count": 36
        }
      ]
    },
    {
      "cell_type": "markdown",
      "metadata": {
        "id": "egTmVsfLlJS-"
      },
      "source": [
        "#Vizualizaciones "
      ]
    },
    {
      "cell_type": "markdown",
      "metadata": {
        "id": "d3HIgyJilMvJ"
      },
      "source": [
        "##Diagrama de pastel "
      ]
    },
    {
      "cell_type": "code",
      "execution_count": 37,
      "metadata": {
        "id": "TYSpreRllDqy"
      },
      "outputs": [],
      "source": [
        "#filtro \n",
        "ventas_producto= df.groupby(['Outlet_Type'])['Item_Outlet_Sales'].mean()\n",
        "ventas_producto;"
      ]
    },
    {
      "cell_type": "code",
      "execution_count": 38,
      "metadata": {
        "colab": {
          "base_uri": "https://localhost:8080/"
        },
        "id": "DjayJO6Nmkfm",
        "outputId": "1786bfcd-7a31-481f-ddb0-26b60932398a"
      },
      "outputs": [
        {
          "output_type": "execute_result",
          "data": {
            "text/plain": [
              "pandas.core.series.Series"
            ]
          },
          "metadata": {},
          "execution_count": 38
        }
      ],
      "source": [
        "type(ventas_producto)"
      ]
    },
    {
      "cell_type": "code",
      "execution_count": 39,
      "metadata": {
        "colab": {
          "base_uri": "https://localhost:8080/"
        },
        "id": "JFhXHYFzmrBF",
        "outputId": "0a4e3e1f-d0ef-4193-a563-585f67bd8f99"
      },
      "outputs": [
        {
          "output_type": "execute_result",
          "data": {
            "text/plain": [
              "array([ 339.82850046, 2316.18114811, 1995.49873922, 3694.03855765])"
            ]
          },
          "metadata": {},
          "execution_count": 39
        }
      ],
      "source": [
        "ventas_produto=np.array(ventas_producto)\n",
        "ventas_produto"
      ]
    },
    {
      "cell_type": "code",
      "execution_count": 40,
      "metadata": {
        "colab": {
          "base_uri": "https://localhost:8080/",
          "height": 248
        },
        "id": "gZvLlgEUmubF",
        "outputId": "dfb3a434-0a3b-4fc3-b4bb-2504cc5f3118"
      },
      "outputs": [
        {
          "output_type": "display_data",
          "data": {
            "image/png": "[encoded data removed]",
            "text/plain": [
              "<Figure size 432x288 with 1 Axes>"
            ]
          },
          "metadata": {}
        }
      ],
      "source": [
        "plt.pie(ventas_producto.values,labels=ventas_producto.index,\n",
        "        autopct='%1.1f%%', shadow=True, startangle=90);\n",
        "plt.show()"
      ]
    },
    {
      "cell_type": "markdown",
      "source": [
        "##histograma Gauseano "
      ],
      "metadata": {
        "id": "eO9x8S21uhom"
      }
    },
    {
      "cell_type": "markdown",
      "source": [
        "distribucion de los precion de los productos"
      ],
      "metadata": {
        "id": "3FeSN9eWvtaI"
      }
    },
    {
      "cell_type": "code",
      "execution_count": 41,
      "metadata": {
        "id": "1DFLG4bzokTQ"
      },
      "outputs": [],
      "source": [
        "ventas=df['Item_MRP']\n",
        "ventas;"
      ]
    },
    {
      "cell_type": "code",
      "source": [
        "plt.hist(ventas.values,bins=10,edgecolor='black', color = 'gray');\n",
        "plt.xticks(fontsize = 14)\n",
        "plt.yticks(fontsize = 14)\n",
        "plt.title('PRICE MINORIST DISTRIBUTION', \n",
        "          fontsize = 18)"
      ],
      "metadata": {
        "colab": {
          "base_uri": "https://localhost:8080/",
          "height": 306
        },
        "id": "GVp3_Cspu_ut",
        "outputId": "d7cf1b1d-b59e-4439-c818-0de090de5850"
      },
      "execution_count": 63,
      "outputs": [
        {
          "output_type": "execute_result",
          "data": {
            "text/plain": [
              "Text(0.5, 1.0, 'PRICE MINORIST DISTRIBUTION')"
            ]
          },
          "metadata": {},
          "execution_count": 63
        },
        {
          "output_type": "display_data",
          "data": {
            "image/png": "[encoded data removed]",
            "text/plain": [
              "<Figure size 432x288 with 1 Axes>"
            ]
          },
          "metadata": {
            "needs_background": "light"
          }
        }
      ]
    },
    {
      "cell_type": "code",
      "source": [
        "#histograma para ver el numero de productos segun el tipo de tienda \n",
        "tienda= df.groupby(['Outlet_Type'])['Item_Visibility'].sum()\n",
        "\n",
        "tienda"
      ],
      "metadata": {
        "id": "fooOUTiX00rU",
        "colab": {
          "base_uri": "https://localhost:8080/"
        },
        "outputId": "9b0d49a9-596b-48b5-e901-18d60fafc8cf"
      },
      "execution_count": 71,
      "outputs": [
        {
          "output_type": "execute_result",
          "data": {
            "text/plain": [
              "Outlet_Type\n",
              "Grocery Store        113.565873\n",
              "Supermarket Type1    338.651189\n",
              "Supermarket Type2     56.621454\n",
              "Supermarket Type3     54.804764\n",
              "Name: Item_Visibility, dtype: float64"
            ]
          },
          "metadata": {},
          "execution_count": 71
        }
      ]
    },
    {
      "cell_type": "code",
      "source": [
        "plt.stem(tienda.index,tienda.values)\n"
      ],
      "metadata": {
        "colab": {
          "base_uri": "https://localhost:8080/",
          "height": 340
        },
        "id": "hhVgsPju2b6Z",
        "outputId": "4354e18f-a1da-4052-a142-80b5094d1e73"
      },
      "execution_count": 70,
      "outputs": [
        {
          "output_type": "stream",
          "name": "stderr",
          "text": [
            "/usr/local/lib/python3.7/dist-packages/ipykernel_launcher.py:1: UserWarning: In Matplotlib 3.3 individual lines on a stem plot will be added as a LineCollection instead of individual lines. This significantly improves the performance of a stem plot. To remove this warning and switch to the new behaviour, set the \"use_line_collection\" keyword argument to True.\n",
            "  \"\"\"Entry point for launching an IPython kernel.\n"
          ]
        },
        {
          "output_type": "display_data",
          "data": {
            "image/png": "[encoded data removed]",
            "text/plain": [
              "<Figure size 432x288 with 1 Axes>"
            ]
          },
          "metadata": {
            "needs_background": "light"
          }
        }
      ]
    },
    {
      "cell_type": "code",
      "source": [
        "#diagrama de bigotes del peso de los productos, donde se encuentran los productos mas pesados frente a sus precios \n",
        "precio=df['Item_MRP'].values\n",
        "peso= df['Item_Weight'].values\n",
        "plt.boxplot([precio,peso], labels=['Precio', 'Peso']);\n",
        "plt.xticks(fontsize = 12)\n",
        "plt.ytitle('Peso de Producto')\n",
        "plt.yticks(fontsize = 12)\n",
        "plt.title('PROPORCIONALISDAD DE PRECIO Y PESO', \n",
        "          fontsize = 18);\n",
        "#Conclusion no existen ninguna proporcionalidad\n"
      ],
      "metadata": {
        "id": "8ulPHjWYvJEV",
        "colab": {
          "base_uri": "https://localhost:8080/",
          "height": 486
        },
        "outputId": "f349bf06-eb87-47fb-8792-a9e7493432ea"
      },
      "execution_count": 73,
      "outputs": [
        {
          "output_type": "error",
          "ename": "AttributeError",
          "evalue": "ignored",
          "traceback": [
            "\u001b[0;31m---------------------------------------------------------------------------\u001b[0m",
            "\u001b[0;31mAttributeError\u001b[0m                            Traceback (most recent call last)",
            "\u001b[0;32m<ipython-input-73-1f4885c67c40>\u001b[0m in \u001b[0;36m<module>\u001b[0;34m()\u001b[0m\n\u001b[1;32m      4\u001b[0m \u001b[0mplt\u001b[0m\u001b[0;34m.\u001b[0m\u001b[0mboxplot\u001b[0m\u001b[0;34m(\u001b[0m\u001b[0;34m[\u001b[0m\u001b[0mprecio\u001b[0m\u001b[0;34m,\u001b[0m\u001b[0mpeso\u001b[0m\u001b[0;34m]\u001b[0m\u001b[0;34m,\u001b[0m \u001b[0mlabels\u001b[0m\u001b[0;34m=\u001b[0m\u001b[0;34m[\u001b[0m\u001b[0;34m'Precio'\u001b[0m\u001b[0;34m,\u001b[0m \u001b[0;34m'Peso'\u001b[0m\u001b[0;34m]\u001b[0m\u001b[0;34m)\u001b[0m\u001b[0;34m;\u001b[0m\u001b[0;34m\u001b[0m\u001b[0;34m\u001b[0m\u001b[0m\n\u001b[1;32m      5\u001b[0m \u001b[0mplt\u001b[0m\u001b[0;34m.\u001b[0m\u001b[0mxticks\u001b[0m\u001b[0;34m(\u001b[0m\u001b[0mfontsize\u001b[0m \u001b[0;34m=\u001b[0m \u001b[0;36m12\u001b[0m\u001b[0;34m)\u001b[0m\u001b[0;34m\u001b[0m\u001b[0;34m\u001b[0m\u001b[0m\n\u001b[0;32m----> 6\u001b[0;31m \u001b[0mplt\u001b[0m\u001b[0;34m.\u001b[0m\u001b[0mytitle\u001b[0m\u001b[0;34m(\u001b[0m\u001b[0;34m'Peso de Producto'\u001b[0m\u001b[0;34m)\u001b[0m\u001b[0;34m\u001b[0m\u001b[0;34m\u001b[0m\u001b[0m\n\u001b[0m\u001b[1;32m      7\u001b[0m \u001b[0mplt\u001b[0m\u001b[0;34m.\u001b[0m\u001b[0myticks\u001b[0m\u001b[0;34m(\u001b[0m\u001b[0mfontsize\u001b[0m \u001b[0;34m=\u001b[0m \u001b[0;36m12\u001b[0m\u001b[0;34m)\u001b[0m\u001b[0;34m\u001b[0m\u001b[0;34m\u001b[0m\u001b[0m\n\u001b[1;32m      8\u001b[0m plt.title('PROPORCIONALISDAD DE PRECIO Y PESO', \n",
            "\u001b[0;31mAttributeError\u001b[0m: module 'matplotlib.pyplot' has no attribute 'ytitle'"
          ]
        },
        {
          "output_type": "display_data",
          "data": {
            "image/png": "[encoded data removed]",
            "text/plain": [
              "<Figure size 432x288 with 1 Axes>"
            ]
          },
          "metadata": {
            "needs_background": "light"
          }
        }
      ]
    },
    {
      "cell_type": "markdown",
      "source": [
        "##Prediccion de regresion lineaL\n"
      ],
      "metadata": {
        "id": "or_-7orG8Vx0"
      }
    },
    {
      "cell_type": "code",
      "source": [
        "X=df.loc[:,['Item_Weight','Item_Visibility','Item_MRP']]\n",
        "X.shape"
      ],
      "metadata": {
        "colab": {
          "base_uri": "https://localhost:8080/"
        },
        "id": "2PzUEXcmfUh4",
        "outputId": "d3b1fc4f-090d-4058-e380-834975b9db43"
      },
      "execution_count": 46,
      "outputs": [
        {
          "output_type": "execute_result",
          "data": {
            "text/plain": [
              "(8523, 3)"
            ]
          },
          "metadata": {},
          "execution_count": 46
        }
      ]
    },
    {
      "cell_type": "code",
      "source": [
        "type(X)"
      ],
      "metadata": {
        "colab": {
          "base_uri": "https://localhost:8080/"
        },
        "id": "Bo8r0a9581DI",
        "outputId": "caafc308-ecef-46c7-fd24-355fbf4bdaa1"
      },
      "execution_count": 47,
      "outputs": [
        {
          "output_type": "execute_result",
          "data": {
            "text/plain": [
              "pandas.core.frame.DataFrame"
            ]
          },
          "metadata": {},
          "execution_count": 47
        }
      ]
    },
    {
      "cell_type": "code",
      "source": [
        "y=df.loc[:,'Item_Outlet_Sales'].values\n",
        "y.shape"
      ],
      "metadata": {
        "colab": {
          "base_uri": "https://localhost:8080/"
        },
        "id": "Es6-_w8883dO",
        "outputId": "14be9e34-42a9-4e5b-c8ad-78b0afc31804"
      },
      "execution_count": 48,
      "outputs": [
        {
          "output_type": "execute_result",
          "data": {
            "text/plain": [
              "(8523,)"
            ]
          },
          "metadata": {},
          "execution_count": 48
        }
      ]
    },
    {
      "cell_type": "code",
      "source": [
        "type(y)"
      ],
      "metadata": {
        "colab": {
          "base_uri": "https://localhost:8080/"
        },
        "id": "qMSl1wYh9DDm",
        "outputId": "4f71752a-76cd-43f3-a03e-515fcc700d65"
      },
      "execution_count": 49,
      "outputs": [
        {
          "output_type": "execute_result",
          "data": {
            "text/plain": [
              "numpy.ndarray"
            ]
          },
          "metadata": {},
          "execution_count": 49
        }
      ]
    },
    {
      "cell_type": "code",
      "source": [
        "#estandarizacion\n",
        "knn= KNeighborsRegressor(n_neighbors=2)\n",
        "knn.fit(X,y)"
      ],
      "metadata": {
        "colab": {
          "base_uri": "https://localhost:8080/"
        },
        "id": "fTjIJAnX9FmG",
        "outputId": "53daed36-8290-408b-e9f6-c4f5b21e8410"
      },
      "execution_count": 50,
      "outputs": [
        {
          "output_type": "execute_result",
          "data": {
            "text/plain": [
              "KNeighborsRegressor(n_neighbors=2)"
            ]
          },
          "metadata": {},
          "execution_count": 50
        }
      ]
    },
    {
      "cell_type": "code",
      "source": [
        "prediccion=knn.predict(X)\n",
        "score=knn.score(X,y)\n",
        "score"
      ],
      "metadata": {
        "colab": {
          "base_uri": "https://localhost:8080/"
        },
        "id": "2AqE24Tb9UEW",
        "outputId": "d8f98deb-e052-43e3-ab70-ea8ff8d0354e"
      },
      "execution_count": 51,
      "outputs": [
        {
          "output_type": "execute_result",
          "data": {
            "text/plain": [
              "0.6541175121198957"
            ]
          },
          "metadata": {},
          "execution_count": 51
        }
      ]
    },
    {
      "cell_type": "code",
      "source": [
        "prediccion"
      ],
      "metadata": {
        "colab": {
          "base_uri": "https://localhost:8080/"
        },
        "id": "wSADevx4e3kW",
        "outputId": "25dbca06-3518-4e0b-aefb-fa9085c9d06c"
      },
      "execution_count": 74,
      "outputs": [
        {
          "output_type": "execute_result",
          "data": {
            "text/plain": [
              "array([4855.6794,  468.0574, 1258.362 , ..., 1470.4193, 2563.33  ,\n",
              "       1888.8746])"
            ]
          },
          "metadata": {},
          "execution_count": 74
        }
      ]
    },
    {
      "cell_type": "code",
      "source": [
        "plt.hist(prediccion,bins=10,edgecolor='black', color = 'gray');\n",
        "plt.xticks(fontsize = 14)\n",
        "plt.yticks(fontsize = 14)\n",
        "plt.title('PRICE MINORIST DISTRIBUTION  RL', \n",
        "          fontsize = 18)"
      ],
      "metadata": {
        "colab": {
          "base_uri": "https://localhost:8080/",
          "height": 306
        },
        "id": "uwXBJBRqfB5s",
        "outputId": "1ce9c7dc-31dd-4c67-89f6-1bcec409a578"
      },
      "execution_count": 97,
      "outputs": [
        {
          "output_type": "execute_result",
          "data": {
            "text/plain": [
              "Text(0.5, 1.0, 'PRICE MINORIST DISTRIBUTION  RL')"
            ]
          },
          "metadata": {},
          "execution_count": 97
        },
        {
          "output_type": "display_data",
          "data": {
            "image/png": "[encoded data removed]",
            "text/plain": [
              "<Figure size 432x288 with 1 Axes>"
            ]
          },
          "metadata": {
            "needs_background": "light"
          }
        }
      ]
    },
    {
      "cell_type": "markdown",
      "source": [
        "#Random forest "
      ],
      "metadata": {
        "id": "Mo1MjxPwj_vK"
      }
    },
    {
      "cell_type": "code",
      "source": [
        "from sklearn.model_selection import train_test_split\n",
        "# Importar árboles de ensacado y clasificadores de bosques aleatorios\n",
        "from sklearn.ensemble import BaggingRegressor\n",
        "from sklearn.ensemble import RandomForestRegressor\n",
        "from sklearn.tree import DecisionTreeRegressor"
      ],
      "metadata": {
        "id": "4Oh_9Nfe9f_G"
      },
      "execution_count": 52,
      "outputs": []
    },
    {
      "cell_type": "code",
      "source": [
        "#matriz de caracteristicas\n",
        "X=df.loc[:,['Item_Weight','Item_Visibility','Item_MRP','Outlet_Establishment_Year']]\n",
        "#vector objetivo \n",
        "y=df.loc[:,'Item_Outlet_Sales'].values"
      ],
      "metadata": {
        "id": "mWnZa_PjkoGd"
      },
      "execution_count": 53,
      "outputs": []
    },
    {
      "cell_type": "code",
      "source": [
        "#validacion de datos , division entrenamiento y prueba \n",
        "X_train, X_test, y_train, y_test = train_test_split(X, y, random_state=20)"
      ],
      "metadata": {
        "id": "vW0g1Ut_lHoM"
      },
      "execution_count": 54,
      "outputs": []
    },
    {
      "cell_type": "code",
      "source": [
        "#crear instancia para el modelo\n",
        "clf = RandomForestRegressor(n_estimators=200,\n",
        "                            bootstrap=True,\n",
        "                            oob_score=True)\n",
        "clf"
      ],
      "metadata": {
        "colab": {
          "base_uri": "https://localhost:8080/"
        },
        "id": "SWqJmCoclM7d",
        "outputId": "38394dc5-b0df-4022-f370-fe56a81aba02"
      },
      "execution_count": 92,
      "outputs": [
        {
          "output_type": "execute_result",
          "data": {
            "text/plain": [
              "RandomForestRegressor(n_estimators=200, oob_score=True)"
            ]
          },
          "metadata": {},
          "execution_count": 92
        }
      ]
    },
    {
      "cell_type": "code",
      "source": [
        "clf.fit(X_train, y_train)"
      ],
      "metadata": {
        "colab": {
          "base_uri": "https://localhost:8080/"
        },
        "id": "jJ_NgD3BlOfs",
        "outputId": "8e5774bc-32e2-4453-c008-84fe67df976e"
      },
      "execution_count": 93,
      "outputs": [
        {
          "output_type": "execute_result",
          "data": {
            "text/plain": [
              "RandomForestRegressor(n_estimators=200, oob_score=True)"
            ]
          },
          "metadata": {},
          "execution_count": 93
        }
      ]
    },
    {
      "cell_type": "code",
      "source": [
        "predicc=clf.predict(X_test[0:15])"
      ],
      "metadata": {
        "id": "5an81xHDlP-V"
      },
      "execution_count": 94,
      "outputs": []
    },
    {
      "cell_type": "code",
      "source": [
        "score = clf.score(X_test, y_test)\n",
        "score"
      ],
      "metadata": {
        "colab": {
          "base_uri": "https://localhost:8080/"
        },
        "id": "ubgqvuXOlUy0",
        "outputId": "81a5f0a4-6745-48fc-b6f7-3e8ab9c17538"
      },
      "execution_count": 95,
      "outputs": [
        {
          "output_type": "execute_result",
          "data": {
            "text/plain": [
              "0.40621151824286916"
            ]
          },
          "metadata": {},
          "execution_count": 95
        }
      ]
    },
    {
      "cell_type": "code",
      "source": [
        "plt.hist(predicc,bins=10,edgecolor='black', color = 'gray');\n",
        "plt.xticks(fontsize = 14)\n",
        "plt.yticks(fontsize = 14)\n",
        "plt.title('PRICE MINORIST DISTRIBUTION RF', \n",
        "          fontsize = 18)"
      ],
      "metadata": {
        "id": "zj_KDnMklYrb",
        "colab": {
          "base_uri": "https://localhost:8080/",
          "height": 306
        },
        "outputId": "de8e3884-4de8-42f5-fcd9-0a0ceb7f4115"
      },
      "execution_count": 98,
      "outputs": [
        {
          "output_type": "execute_result",
          "data": {
            "text/plain": [
              "Text(0.5, 1.0, 'PRICE MINORIST DISTRIBUTION RF')"
            ]
          },
          "metadata": {},
          "execution_count": 98
        },
        {
          "output_type": "display_data",
          "data": {
            "image/png": "[encoded data removed]",
            "text/plain": [
              "<Figure size 432x288 with 1 Axes>"
            ]
          },
          "metadata": {
            "needs_background": "light"
          }
        }
      ]
    },
    {
      "cell_type": "code",
      "source": [
        ""
      ],
      "metadata": {
        "id": "Jdn3WuEXfZnp"
      },
      "execution_count": null,
      "outputs": []
    }
  ],
  "metadata": {
    "colab": {
      "name": "Prediccion_knn-regre_sales-ipynb",
      "provenance": [],
      "collapsed_sections": []
    },
    "kernelspec": {
      "display_name": "Python 3",
      "name": "python3"
    },
    "language_info": {
      "name": "python"
    }
  },
  "nbformat": 4,
  "nbformat_minor": 0
}